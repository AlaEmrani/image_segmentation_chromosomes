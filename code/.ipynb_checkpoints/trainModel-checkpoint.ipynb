{
 "cells": [
  {
   "cell_type": "code",
   "execution_count": null,
   "metadata": {
    "collapsed": false
   },
   "outputs": [],
   "source": [
    "import matplotlib.pyplot as plt\n",
    "import numpy as np\n",
    "#import utilities\n",
    "from OverlapSegmentationNet import OverlapSegmentationNet\n",
    "\n",
    "import tensorflow as tf\n",
    "import tensorflow as tf\n",
    "%matplotlib inline\n",
    "import matplotlib.pyplot as plt\n",
    "plt.rcParams['image.cmap'] = 'gist_earth'\n",
    "import numpy as np"
   ]
  },
  {
   "cell_type": "code",
   "execution_count": null,
   "metadata": {
    "collapsed": true
   },
   "outputs": [],
   "source": [
    "# Load data\n",
    "xdata = np.load('xdata_88x88.npy')\n",
    "labels = np.load('ydata_88x88_0123_onehot.npy')\n",
    "train_test_boundary_index = round(13434*.8)"
   ]
  },
  {
   "cell_type": "code",
   "execution_count": null,
   "metadata": {
    "collapsed": true
   },
   "outputs": [],
   "source": [
    "model = OverlapSegmentationNet(input_shape=(88,88,1))\n",
    "\n",
    "# Choose loss\n",
    "model.compile(loss='mean_squared_error', optimizer='adam')\n",
    "\n",
    "# Specify the number of epochs to run\n",
    "num_epoch = 5\n",
    "for i range(num_epoch):\n",
    "    \n",
    "    # Fit\n",
    "    model.fit(x=xdata, y=labels, epochs=1, validation_split=0.2)  # Indicate if class_weights='auto'\n",
    "    filename = 'models/savedmodel_' + str(i) + 'epoch'\n",
    "    model.save(filename)\n",
    "    \n",
    "    # Predict and plot images\n",
    "    predictions = model.predict(xdata[0:4,...])\n",
    "    utilities.plotSamplesOneHots(predictions[0:4,...].round())\n",
    "   \n",
    "    # Calculate mIOU\n",
    "    y_pred_train = model.predict(xdata[0:train_test_boundary_index,...]).round()\n",
    "    print('Training meanIU: ' + str(utilities.meanIU(y_pred_train, labels[0:train_test_boundary_index,...])))\n",
    "    print('Training accuracy: ' + str(utilities.globalAccuracy(y_pred_train, labels[0:train_test_boundary_index,...])))\n",
    "    del y_pred_train\n",
    "    y_pred_test = model.predict(xdata[train_test_boundary_index:,...]).round()\n",
    "    print('Testing meanIU: ' + str(utilities.meanIU(y_pred_test, labels[train_test_boundary_index:,...])))\n",
    "    print('Testing accuracy: ' + str(utilities.globalAccuracy(y_pred_test, labels[train_test_boundary_index:,...])))\n",
    "    del y_pred_test"
   ]
  }
 ],
 "metadata": {
  "kernelspec": {
   "display_name": "Python 3",
   "language": "python",
   "name": "python3"
  },
  "language_info": {
   "codemirror_mode": {
    "name": "ipython",
    "version": 3
   },
   "file_extension": ".py",
   "mimetype": "text/x-python",
   "name": "python",
   "nbconvert_exporter": "python",
   "pygments_lexer": "ipython3",
   "version": "3.5.1"
  },
  "nav_menu": {},
  "toc": {
   "navigate_menu": true,
   "number_sections": true,
   "sideBar": true,
   "threshold": 6,
   "toc_cell": false,
   "toc_section_display": "block",
   "toc_window_display": false
  }
 },
 "nbformat": 4,
 "nbformat_minor": 0
}
