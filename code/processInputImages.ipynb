{
 "cells": [
  {
   "cell_type": "code",
   "execution_count": null,
   "metadata": {
    "collapsed": true
   },
   "outputs": [],
   "source": [
    "import matplotlib.pyplot as plt\n",
    "import numpy as np\n",
    "import utilities\n",
    "import h5py"
   ]
  },
  {
   "cell_type": "code",
   "execution_count": null,
   "metadata": {
    "collapsed": true
   },
   "outputs": [],
   "source": [
    "# Load HD5F file\n",
    "h5f = h5py.File('LowRes_13434_overlapping_pairs.h5','r')\n",
    "labels = h5f['dataset_1'][...,1]\n",
    "h5f.close()\n",
    "\n",
    "# Clean labels\n",
    "labels = utilities.cleanLabelNearestNeighbour_alllabels(labels)\n",
    "\n",
    "# Crop to 88x88 pixels and save processed numpy arrays\n",
    "labels = utilities.makeXbyY(labels, 88, 88)\n",
    "np.save('ydata_88x88_0123_onehot', labels)\n",
    "xdata = utilities.makeXbyY(xdata, 88, 88).reshape((13434,88,88, 1))\n",
    "np.save('xdata_88x88', xdata)"
   ]
  }
 ],
 "metadata": {
  "kernelspec": {
   "display_name": "Python 3",
   "language": "python",
   "name": "python3"
  },
  "language_info": {
   "codemirror_mode": {
    "name": "ipython",
    "version": 3
   },
   "file_extension": ".py",
   "mimetype": "text/x-python",
   "name": "python",
   "nbconvert_exporter": "python",
   "pygments_lexer": "ipython3",
   "version": "3.5.1"
  },
  "nav_menu": {},
  "toc": {
   "navigate_menu": true,
   "number_sections": true,
   "sideBar": true,
   "threshold": 6,
   "toc_cell": false,
   "toc_section_display": "block",
   "toc_window_display": false
  }
 },
 "nbformat": 4,
 "nbformat_minor": 0
}
